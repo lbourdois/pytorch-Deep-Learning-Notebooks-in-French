{
 "cells": [
  {
   "cell_type": "markdown",
   "metadata": {},
   "source": [
    "# Traduction en français du notebook *12* du cours ***Deep Learning*** d'Alfredo Canziani, professeur assistant à la *New York University* :\n",
    "https://github.com/Atcold/pytorch-Deep-Learning/blob/master/12-regularization.ipynb"
   ]
  },
  {
   "cell_type": "code",
   "execution_count": null,
   "metadata": {},
   "outputs": [],
   "source": []
  },
  {
   "cell_type": "markdown",
   "metadata": {},
   "source": [
    "## La régularisation dans les réseaux de neurones"
   ]
  },
  {
   "cell_type": "markdown",
   "metadata": {},
   "source": [
    "Avant de commencer, il est important de comprendre le processus intuitif que nous essayons de faire en NLP lorsque nous traitons nos données du jeu de données IMDB :\n",
    "\n",
    "1. Tokenisation : décomposer une phrase en mots individuels\n",
    "    - Avant : `PyTorch semble vraiment facile à utiliser\"`\n",
    "    - Après : `[\"PyTorch\", \"semble\", \"vraiment\", \"facile\", \"à\", \"utiliser\", \" !\"]`\n",
    "2. Construire le vocabulaire : construire un index de mots associés à des nombres uniques\n",
    "    - Avant : `[\"PyTorch\", \"semble\", \"vraiment\", \"facile\", \"à\", \"utiliser\", \" !\"]`\n",
    "    - Après : `{\"Pytorch: 0, \"semble\": 1, \"vraiment\": 2, ...}`\n",
    "3. Conversion en chiffres : les mots deviennent des nombres uniques (indices)\n",
    "    - Avant : `{\"Pytorch: 0, \"semble\": 1, \"vraiment\": 2, ...}`\n",
    "    - Après : `[0, 1, 2, ...]`\n",
    "4. Enchâssement : mise en correspondance des phrases (indices maintenant) avec des matrices fixes\n",
    "    - ```[[0.1, 0.4, 0.3],\n",
    "       [0.8, 0.1, 0.5],\n",
    "       ...]```"
   ]
  },
  {
   "cell_type": "code",
   "execution_count": 1,
   "metadata": {},
   "outputs": [],
   "source": [
    "# Importation des librairies :\n",
    "\n",
    "import matplotlib.pyplot as plt\n",
    "%matplotlib inline\n",
    "\n",
    "# PyTorch \n",
    "from torchtext import data, datasets\n",
    "import torch\n",
    "import torch.nn as nn\n",
    "import torch.nn.functional as F\n",
    "\n",
    "# Vérification de l'existence d'objets itératifs\n",
    "import collections\n",
    "import random"
   ]
  },
  {
   "cell_type": "code",
   "execution_count": 2,
   "metadata": {},
   "outputs": [],
   "source": [
    "# Paramétrage de la graîne\n",
    "torch.manual_seed(1337)\n",
    "if torch.cuda.is_available():\n",
    "    torch.cuda.manual_seed_all(1337)"
   ]
  },
  {
   "cell_type": "code",
   "execution_count": 3,
   "metadata": {},
   "outputs": [],
   "source": [
    "# Paramétrage des graphiques\n",
    "plt.style.use(('dark_background', 'bmh'))\n",
    "plt.rc('axes', facecolor='none')\n",
    "plt.rc('figure', figsize=(16, 4))"
   ]
  },
  {
   "cell_type": "code",
   "execution_count": 4,
   "metadata": {},
   "outputs": [],
   "source": [
    "# Créer des instances de champs\n",
    "# Le champ important ici est fix_length : tous les exemples utilisant ce champ seront remplis, ou aucun pour les longueurs de séquence flexibles\n",
    "# Nous réglons ce problème parce que nous utiliserons un FNN et non un LSTM/RNN/GRU où nous pouvons passer par des longueurs de séquence inégales\n",
    "\n",
    "max_len = 80\n",
    "text = data.Field(sequential=True, fix_length=max_len, batch_first=True, lower=True, dtype=torch.long)\n",
    "label = data.LabelField(sequential=False, dtype=torch.float)"
   ]
  },
  {
   "cell_type": "code",
   "execution_count": 5,
   "metadata": {},
   "outputs": [
    {
     "name": "stdout",
     "output_type": "stream",
     "text": [
      "downloading aclImdb_v1.tar.gz\n"
     ]
    },
    {
     "name": "stderr",
     "output_type": "stream",
     "text": [
      "imdb\\aclImdb_v1.tar.gz: 100%|█████████████████████████████████████████████████████| 84.1M/84.1M [00:36<00:00, 2.28MB/s]\n"
     ]
    }
   ],
   "source": [
    "# Appel de la méthode splits() de datasets.IMDB pour renvoyer un objet torchtext.data.Dataset\n",
    "datasets.IMDB.download('./')\n",
    "ds_train, ds_test = datasets.IMDB.splits(text, label, path='./imdb/aclImdb/')"
   ]
  },
  {
   "cell_type": "code",
   "execution_count": 6,
   "metadata": {},
   "outputs": [
    {
     "name": "stdout",
     "output_type": "stream",
     "text": [
      "Entraînement :  25000\n",
      "Test :  25000\n",
      "Champs d entraînement : {'text': <torchtext.data.field.Field object at 0x000001F1BE590828>, 'label': <torchtext.data.field.LabelField object at 0x000001F1BE590898>}\n"
     ]
    }
   ],
   "source": [
    "# Entraînement et test de chaque série de 25k échantillons\n",
    "# 2 champs en raison de la façon dont nous avons découpés les données\n",
    "\n",
    "print('Entraînement : ', len(ds_train))\n",
    "print('Test : ', len(ds_test))\n",
    "print('Champs d entraînement :', ds_train.fields)"
   ]
  },
  {
   "cell_type": "code",
   "execution_count": 7,
   "metadata": {},
   "outputs": [],
   "source": [
    "# Avoir le jeu de validation\n",
    "seed_num = 1337\n",
    "ds_train, ds_valid = ds_train.split(random_state=random.seed(seed_num))"
   ]
  },
  {
   "cell_type": "code",
   "execution_count": 8,
   "metadata": {},
   "outputs": [
    {
     "name": "stdout",
     "output_type": "stream",
     "text": [
      "train :  17500\n",
      "valid :  7500\n",
      "valid :  25000\n"
     ]
    }
   ],
   "source": [
    "# Maintenant nous avons les jeux d'entraînement, de validation et de test\n",
    "print('train : ', len(ds_train))\n",
    "print('valid : ', len(ds_valid))\n",
    "print('valid : ', len(ds_test))"
   ]
  },
  {
   "cell_type": "code",
   "execution_count": 9,
   "metadata": {},
   "outputs": [],
   "source": [
    "# Création du vocabulaire\n",
    "# num_words = 25000\n",
    "num_words = 1000\n",
    "text.build_vocab(ds_train, max_size=num_words)\n",
    "label.build_vocab(ds_train)"
   ]
  },
  {
   "cell_type": "code",
   "execution_count": 10,
   "metadata": {},
   "outputs": [
    {
     "name": "stdout",
     "output_type": "stream",
     "text": [
      "Taille du vocabulaire: 1002\n",
      "Taille des labels: 2\n"
     ]
    }
   ],
   "source": [
    "# On affiche la tailel du vocabulaire\n",
    "print('Taille du vocabulaire: {}'.format(len(text.vocab)))\n",
    "print('Taille des labels: {}'.format(len(label.vocab)))"
   ]
  },
  {
   "cell_type": "code",
   "execution_count": 11,
   "metadata": {},
   "outputs": [
    {
     "name": "stdout",
     "output_type": "stream",
     "text": [
      "[('the', 224168), ('a', 110990), ('and', 110299), ('of', 100428), ('to', 93062), ('is', 72441), ('in', 62906), ('i', 49714), ('this', 48864), ('that', 46090)]\n"
     ]
    }
   ],
   "source": [
    "# On affiche les textes qui reviennent le plus de fois dans le vocabulaire\n",
    "most_common_samples = 10\n",
    "print(text.vocab.freqs.most_common(most_common_samples))"
   ]
  },
  {
   "cell_type": "code",
   "execution_count": 12,
   "metadata": {},
   "outputs": [
    {
     "name": "stdout",
     "output_type": "stream",
     "text": [
      "[('neg', 8835), ('pos', 8665)]\n"
     ]
    }
   ],
   "source": [
    "# On affiche les labels qui reviennent le plus de fois\n",
    "print(label.vocab.freqs.most_common())"
   ]
  },
  {
   "cell_type": "code",
   "execution_count": 13,
   "metadata": {},
   "outputs": [
    {
     "data": {
      "text/plain": [
       "'neg'"
      ]
     },
     "execution_count": 13,
     "metadata": {},
     "output_type": "execute_result"
    }
   ],
   "source": [
    "# Label de l'échantillon 0\n",
    "ds_train[0].label"
   ]
  },
  {
   "cell_type": "code",
   "execution_count": 14,
   "metadata": {
    "scrolled": true
   },
   "outputs": [
    {
     "data": {
      "text/plain": [
       "['this',\n",
       " 'movie',\n",
       " 'is',\n",
       " 'a',\n",
       " 'lot',\n",
       " 'like',\n",
       " 'the',\n",
       " 'movie',\n",
       " 'hostel,',\n",
       " 'except',\n",
       " 'with',\n",
       " '*bad*',\n",
       " 'acting',\n",
       " 'and',\n",
       " 'not',\n",
       " 'much',\n",
       " 'suspense.',\n",
       " 'the',\n",
       " 'gore',\n",
       " 'elements',\n",
       " 'are',\n",
       " 'there,',\n",
       " 'but',\n",
       " 'you',\n",
       " \"don't\",\n",
       " 'really',\n",
       " 'feel',\n",
       " 'anything',\n",
       " 'for',\n",
       " 'the',\n",
       " 'characters,',\n",
       " 'making',\n",
       " 'the',\n",
       " 'violence',\n",
       " 'not',\n",
       " 'very',\n",
       " 'effective.',\n",
       " 'some',\n",
       " 'parts',\n",
       " 'are',\n",
       " 'just',\n",
       " 'strange...',\n",
       " 'like',\n",
       " 'forcing',\n",
       " 'a',\n",
       " 'snake',\n",
       " 'down',\n",
       " 'someones',\n",
       " 'throat.',\n",
       " \"what's\",\n",
       " 'up',\n",
       " 'with',\n",
       " 'that?',\n",
       " 'is',\n",
       " 'that',\n",
       " 'supposed',\n",
       " 'to',\n",
       " 'be',\n",
       " 'scary',\n",
       " 'or',\n",
       " 'gory?',\n",
       " \"it's\",\n",
       " 'just',\n",
       " 'kind',\n",
       " 'of',\n",
       " 'stupid.',\n",
       " 'as',\n",
       " 'for',\n",
       " 'torture,',\n",
       " 'there',\n",
       " 'really',\n",
       " \"isn't\",\n",
       " 'any',\n",
       " '(except',\n",
       " 'for',\n",
       " 'the',\n",
       " 'guy',\n",
       " 'getting',\n",
       " 'blow-torched',\n",
       " 'in',\n",
       " 'the',\n",
       " 'beginning,',\n",
       " 'which',\n",
       " 'they',\n",
       " \"don't\",\n",
       " 'show',\n",
       " 'anyway).',\n",
       " 'the',\n",
       " 'main',\n",
       " 'bad',\n",
       " 'guy',\n",
       " 'keeps',\n",
       " 'saying',\n",
       " '\"make',\n",
       " 'them',\n",
       " 'die',\n",
       " 'slowly\",',\n",
       " 'yet',\n",
       " 'the',\n",
       " 'butcher',\n",
       " 'kills',\n",
       " 'them',\n",
       " 'all',\n",
       " 'very',\n",
       " 'fast.',\n",
       " 'the',\n",
       " 'deaths',\n",
       " 'are',\n",
       " 'all',\n",
       " 'relatively',\n",
       " 'quick.',\n",
       " 'yes,',\n",
       " 'i',\n",
       " 'did',\n",
       " 'watch',\n",
       " 'the',\n",
       " '\"unrated\"',\n",
       " 'version.',\n",
       " 'so,',\n",
       " 'overall,',\n",
       " 'not',\n",
       " 'the',\n",
       " 'worst',\n",
       " 'gore',\n",
       " 'movie',\n",
       " \"i've\",\n",
       " 'seen,',\n",
       " 'but',\n",
       " 'not',\n",
       " 'at',\n",
       " 'all',\n",
       " 'good',\n",
       " 'either.',\n",
       " 'you',\n",
       " \"won't\",\n",
       " 'miss',\n",
       " 'anything',\n",
       " 'if',\n",
       " 'you',\n",
       " 'skip',\n",
       " 'this',\n",
       " 'one.']"
      ]
     },
     "execution_count": 14,
     "metadata": {},
     "output_type": "execute_result"
    }
   ],
   "source": [
    "# Texte de l'échantillon 0: divisé en portions \n",
    "ds_train[0].text"
   ]
  },
  {
   "cell_type": "code",
   "execution_count": 15,
   "metadata": {},
   "outputs": [
    {
     "name": "stdout",
     "output_type": "stream",
     "text": [
      "this movie is a lot like the movie hostel, except with *bad* acting and not much suspense. the gore elements are there, but you don't really feel anything for the characters, making the violence not very effective. some parts are just strange... like forcing a snake down someones throat. what's up with that? is that supposed to be scary or gory? it's just kind of stupid. as for torture, there really isn't any (except for the guy getting blow-torched in the beginning, which they don't show anyway). the main bad guy keeps saying \"make them die slowly\", yet the butcher kills them all very fast. the deaths are all relatively quick. yes, i did watch the \"unrated\" version. so, overall, not the worst gore movie i've seen, but not at all good either. you won't miss anything if you skip this one.\n"
     ]
    }
   ],
   "source": [
    "# Texte de l'échantillon 0 : \"lisible\"\n",
    "def show_text(sample):\n",
    "    print(' '.join(word for word in sample))\n",
    "    \n",
    "show_text(ds_train[0].text)"
   ]
  },
  {
   "cell_type": "code",
   "execution_count": 16,
   "metadata": {},
   "outputs": [],
   "source": [
    "# Créer un objet itératif pour nos ensembles d'entraînement, de validation et de test\n",
    "# Regrouper des exemples de longueurs similaires afin de minimiser la quantité de rembourrage nécessaire\n",
    "batch_size = 64  # Changez la taille du batch de 1 à un nombre plus important \n",
    "train_loader, valid_loader, test_loader = data.BucketIterator.splits(\n",
    "    (ds_train, ds_valid, ds_test), batch_size=batch_size, sort_key=lambda x: len(x.text), repeat=False\n",
    ")"
   ]
  },
  {
   "cell_type": "code",
   "execution_count": 17,
   "metadata": {},
   "outputs": [
    {
     "data": {
      "text/plain": [
       "True"
      ]
     },
     "execution_count": 17,
     "metadata": {},
     "output_type": "execute_result"
    }
   ],
   "source": [
    "# Vérifiez si l'itérateur ci-dessus est un itérable (devrait indiquer True)\n",
    "isinstance(train_loader, collections.Iterable)"
   ]
  },
  {
   "cell_type": "code",
   "execution_count": 18,
   "metadata": {},
   "outputs": [
    {
     "data": {
      "text/plain": [
       "\n",
       "[torchtext.data.batch.Batch of size 64]\n",
       "\t[.text]:[torch.LongTensor of size 64x80]\n",
       "\t[.label]:[torch.FloatTensor of size 64]"
      ]
     },
     "execution_count": 18,
     "metadata": {},
     "output_type": "execute_result"
    }
   ],
   "source": [
    "# Qu'y a-t-il à l'intérieur de cet objet itératif ?\n",
    "# Notre texte et notre label,  bien que maintenant tout soit au format \"machine\" (pas de mots mais des chiffres) !\n",
    "# Le texte que nous avons vu ci-dessus devient une matrice de taille 1 x 80 représentée par la longueur fixe que nous avons définie auparavant\n",
    "list(train_loader)[0]"
   ]
  },
  {
   "cell_type": "code",
   "execution_count": 19,
   "metadata": {},
   "outputs": [
    {
     "data": {
      "text/plain": [
       "\n",
       "[torchtext.data.batch.Batch of size 64]\n",
       "\t[.text]:[torch.LongTensor of size 64x80]\n",
       "\t[.label]:[torch.FloatTensor of size 64]"
      ]
     },
     "execution_count": 19,
     "metadata": {},
     "output_type": "execute_result"
    }
   ],
   "source": [
    "# Une alternative qui est beaucoup plus rapide. Cependant le code ci-dessus est facile à comprendre et à mettre en œuvre\n",
    "next(train_loader.__iter__())"
   ]
  },
  {
   "cell_type": "code",
   "execution_count": 20,
   "metadata": {},
   "outputs": [],
   "source": [
    "test_batch = next(train_loader.__iter__())"
   ]
  },
  {
   "cell_type": "code",
   "execution_count": 21,
   "metadata": {},
   "outputs": [
    {
     "data": {
      "text/plain": [
       "dict_keys(['text', 'label'])"
      ]
     },
     "execution_count": 21,
     "metadata": {},
     "output_type": "execute_result"
    }
   ],
   "source": [
    "# A quelles méthodes peut-on faire appel via cet objet ? Texte et label\n",
    "test_batch.fields"
   ]
  },
  {
   "cell_type": "code",
   "execution_count": 22,
   "metadata": {},
   "outputs": [
    {
     "data": {
      "text/plain": [
       "tensor([[ 12,  53,   0,  ..., 176,   6,  28],\n",
       "        [  0, 189, 201,  ...,   0,   0,  56],\n",
       "        [308, 945,   2,  ...,  83, 211,   0],\n",
       "        ...,\n",
       "        [  0,  29,   2,  ...,  76,   0,  25],\n",
       "        [  0,   0,   0,  ...,  76,   7,   0],\n",
       "        [ 32, 357, 631,  ...,   0,  27,   0]])"
      ]
     },
     "execution_count": 22,
     "metadata": {},
     "output_type": "execute_result"
    }
   ],
   "source": [
    "# Décomposons cela pour vérifier ce qu'il y a dans un batch\n",
    "test_batch.text"
   ]
  },
  {
   "cell_type": "code",
   "execution_count": 23,
   "metadata": {},
   "outputs": [
    {
     "data": {
      "text/plain": [
       "torch.Size([64, 80])"
      ]
     },
     "execution_count": 23,
     "metadata": {},
     "output_type": "execute_result"
    }
   ],
   "source": [
    "# 1 commentaire par batch, chaque commentaire est limité à une taille de 80 comme nous l'avons défini\n",
    "test_batch.text.size()"
   ]
  },
  {
   "cell_type": "code",
   "execution_count": 24,
   "metadata": {},
   "outputs": [
    {
     "data": {
      "text/plain": [
       "tensor([1., 0., 0., 1., 1., 0., 1., 1., 1., 1., 0., 0., 1., 0., 1., 0., 0., 0.,\n",
       "        1., 0., 1., 0., 0., 0., 1., 0., 1., 0., 0., 0., 0., 1., 0., 1., 1., 1.,\n",
       "        0., 1., 1., 0., 1., 1., 1., 0., 0., 0., 0., 0., 0., 1., 0., 1., 0., 0.,\n",
       "        1., 1., 0., 0., 0., 1., 0., 1., 0., 1.])"
      ]
     },
     "execution_count": 24,
     "metadata": {},
     "output_type": "execute_result"
    }
   ],
   "source": [
    "test_batch.label"
   ]
  },
  {
   "cell_type": "code",
   "execution_count": 25,
   "metadata": {},
   "outputs": [],
   "source": [
    "# Problème extrêmement bizarre dans torchtext où BucketIterator renvoie un objet Batch par rapport à un simple tuple de tenseurs contenant notre index de texte et nos labels\n",
    "# Alors réglons ça avec une nouvelle classe FixBatchGenerator\n",
    "\n",
    "class FixBatchGenerator:\n",
    "    def __init__(self, dl, x_field, y_field):\n",
    "        self.dl, self.x_field, self.y_field = dl, x_field, y_field\n",
    "        \n",
    "    def __len__(self):\n",
    "        return len(self.dl)\n",
    "    \n",
    "    def __iter__(self):\n",
    "        for batch in self.dl:\n",
    "            X = getattr(batch, self.x_field)\n",
    "            y = getattr(batch, self.y_field)\n",
    "            yield (X,y)\n",
    "            \n",
    "train_loader, valid_loader, test_loader = FixBatchGenerator(train_loader, 'text', 'label'), FixBatchGenerator(valid_loader, 'text', 'label'), FixBatchGenerator(test_loader, 'text', 'label')"
   ]
  },
  {
   "cell_type": "code",
   "execution_count": 26,
   "metadata": {},
   "outputs": [
    {
     "name": "stdout",
     "output_type": "stream",
     "text": [
      "tensor([[  0,   6,   2,  ...,  48, 155,   0],\n",
      "        [404,  24,  11,  ...,   1,   1,   1],\n",
      "        [ 10,   0,  14,  ...,  79,   2, 740],\n",
      "        ...,\n",
      "        [  0,  29,   3,  ...,   2, 231,  11],\n",
      "        [  9,  98,   2,  ...,  17,  10, 714],\n",
      "        [ 10,   7, 295,  ...,  16,   2,  82]])\n",
      "tensor([1., 0., 0., 0., 1., 0., 0., 1., 1., 1., 0., 0., 1., 1., 0., 1., 0., 1.,\n",
      "        0., 1., 1., 1., 0., 1., 1., 1., 1., 0., 0., 1., 1., 0., 1., 1., 0., 0.,\n",
      "        0., 1., 1., 1., 1., 1., 0., 1., 1., 1., 0., 1., 1., 1., 1., 0., 0., 1.,\n",
      "        0., 0., 0., 0., 1., 1., 1., 0., 1., 0.])\n"
     ]
    }
   ],
   "source": [
    "# Texte index\n",
    "print(next(train_loader.__iter__())[0])\n",
    "\n",
    "# Texte label\n",
    "print(next(train_loader.__iter__())[1])"
   ]
  },
  {
   "cell_type": "code",
   "execution_count": 27,
   "metadata": {},
   "outputs": [],
   "source": [
    "class FeedforwardNeuralNetModel(nn.Module):\n",
    "    def __init__(self, input_dim, embedding_dim, hidden_dim, output_dim):\n",
    "        super(FeedforwardNeuralNetModel, self).__init__()\n",
    "        # Couche d'enchâssement\n",
    "        self.embedding = nn.Embedding(input_dim, embedding_dim)\n",
    "        \n",
    "        # Fonction linéaire\n",
    "        self.fc1 = nn.Linear(embedding_dim*embedding_dim, hidden_dim) \n",
    "\n",
    "        # Fonction linéaire (lecture)\n",
    "        self.fc2 = nn.Linear(hidden_dim, output_dim)\n",
    "        \n",
    "    def forward(self, x):\n",
    "        # Enchâssement\n",
    "        embedded = self.embedding(x)\n",
    "        embedded = embedded.view(-1, embedding_dim*embedding_dim)\n",
    "        # Fonction linéaire\n",
    "        out = self.fc1(embedded)\n",
    "\n",
    "        # Fonction non linéaire\n",
    "        out = torch.relu(out)\n",
    "        \n",
    "        # Dropout\n",
    "        # out = torche.dropout(out, 0,8)\n",
    "\n",
    "        # Fonction linéaire (lecture)\n",
    "        # Prenez note ici d'utiliser une fonction finale sigmoïde afin que votre perte ne passe plus encore par la sigmoïde.\n",
    "        # BCELoss est la bonne classe à utiliser car elle ne fait pas repasser votre sortie par une fonction sigmoïde.\n",
    "        # Dans les problèmes multi-classes, vous êtes habitués à des softmax qui peuvent être simplifiés en une fonction\n",
    "        # logistique lorsque vous avez un problème à deux classes.\n",
    "        out = self.fc2(out)\n",
    "        out = torch.sigmoid(out)\n",
    "    \n",
    "        return out"
   ]
  },
  {
   "cell_type": "code",
   "execution_count": 28,
   "metadata": {},
   "outputs": [],
   "source": [
    "input_dim = num_words + 2\n",
    "embedding_dim = max_len\n",
    "hidden_dim = 32\n",
    "output_dim = 1\n",
    "\n",
    "# Instancier la classe modèle et l'attribuer à l'objet\n",
    "model = FeedforwardNeuralNetModel(input_dim, embedding_dim, hidden_dim, output_dim)\n",
    "\n",
    "# Utilisation du GPU si disponile sinon CPU\n",
    "device = torch.device(\"cuda:0\" if torch.cuda.is_available() else \"cpu\")\n",
    "model.to(device)\n",
    "\n",
    "# Fonction de perte\n",
    "criterion = nn.BCELoss()\n",
    "\n",
    "# Optimiseur\n",
    "# Possibilité d'ajouter une norme L2 (weight decay : décroissance du taux des poids)\n",
    "# optimizer = torch.optim.Adam(model.parameters(), lr=1e-3, weight_decay=0.005)\n",
    "optimizer = torch.optim.Adam(model.parameters(), lr=1e-3)"
   ]
  },
  {
   "cell_type": "code",
   "execution_count": 29,
   "metadata": {},
   "outputs": [
    {
     "name": "stdout",
     "output_type": "stream",
     "text": [
      "Nombre de groupes de paramètres 5\n",
      "--------------------------------------------------\n",
      "torch.Size([1002, 80])\n",
      "torch.Size([32, 6400])\n",
      "torch.Size([32])\n",
      "torch.Size([1, 32])\n",
      "torch.Size([1])\n",
      "--------------------------------------------------\n"
     ]
    }
   ],
   "source": [
    "# Nombre de groupes de paramètres\n",
    "print('Nombre de groupes de paramètres {}'.format(len(list(model.parameters()))))\n",
    "print('-'*50)\n",
    "# Afficher les paramètres\n",
    "for i in range(len(list(model.parameters()))):\n",
    "    print(list(model.parameters())[i].size())\n",
    "print('-'*50)"
   ]
  },
  {
   "cell_type": "code",
   "execution_count": 30,
   "metadata": {
    "scrolled": true
   },
   "outputs": [
    {
     "name": "stdout",
     "output_type": "stream",
     "text": [
      "Iter: 100 | Train Loss: 0.6755295991897583 | Val Loss: 0.7050830721855164 | Val Accuracy: 53.61\n",
      "Iter: 200 | Train Loss: 0.6719903349876404 | Val Loss: 0.6675786972045898 | Val Accuracy: 54.23\n",
      "Iter: 300 | Train Loss: 0.5782257318496704 | Val Loss: 0.8285977244377136 | Val Accuracy: 57.8\n",
      "Iter: 400 | Train Loss: 0.4806445837020874 | Val Loss: 0.7255232930183411 | Val Accuracy: 59.05\n",
      "Iter: 500 | Train Loss: 0.556922972202301 | Val Loss: 0.6713067889213562 | Val Accuracy: 60.84\n",
      "Iter: 600 | Train Loss: 0.4356842041015625 | Val Loss: 0.7809162139892578 | Val Accuracy: 61.72\n",
      "Iter: 700 | Train Loss: 0.41357526183128357 | Val Loss: 0.6379590630531311 | Val Accuracy: 63.08\n",
      "Iter: 800 | Train Loss: 0.4290046691894531 | Val Loss: 0.6794511675834656 | Val Accuracy: 62.97\n",
      "Iter: 900 | Train Loss: 0.32238900661468506 | Val Loss: 0.8009653687477112 | Val Accuracy: 64.11\n",
      "Iter: 1000 | Train Loss: 0.23771999776363373 | Val Loss: 1.0143202543258667 | Val Accuracy: 63.91\n",
      "Iter: 1100 | Train Loss: 0.10088983923196793 | Val Loss: 0.9395437836647034 | Val Accuracy: 64.09\n",
      "Iter: 1200 | Train Loss: 0.11268153786659241 | Val Loss: 0.9476261138916016 | Val Accuracy: 64.2\n",
      "Iter: 1300 | Train Loss: 0.09992416948080063 | Val Loss: 0.942253828048706 | Val Accuracy: 63.24\n",
      "Iter: 1400 | Train Loss: 0.11414425075054169 | Val Loss: 1.0718584060668945 | Val Accuracy: 64.52\n",
      "Iter: 1500 | Train Loss: 0.10408453643321991 | Val Loss: 1.2411375045776367 | Val Accuracy: 64.35\n",
      "Iter: 1600 | Train Loss: 0.03631670027971268 | Val Loss: 1.1377695798873901 | Val Accuracy: 64.21\n",
      "Iter: 1700 | Train Loss: 0.03318504989147186 | Val Loss: 1.5746136903762817 | Val Accuracy: 65.23\n",
      "Iter: 1800 | Train Loss: 0.017130140215158463 | Val Loss: 1.5252293348312378 | Val Accuracy: 65.04\n",
      "Iter: 1900 | Train Loss: 0.03384201228618622 | Val Loss: 1.3311214447021484 | Val Accuracy: 65.01\n",
      "Iter: 2000 | Train Loss: 0.014771340414881706 | Val Loss: 1.592756748199463 | Val Accuracy: 65.0\n",
      "Iter: 2100 | Train Loss: 0.004968890454620123 | Val Loss: 1.5541561841964722 | Val Accuracy: 65.29\n",
      "Iter: 2200 | Train Loss: 0.015070687048137188 | Val Loss: 1.7067623138427734 | Val Accuracy: 65.23\n",
      "Iter: 2300 | Train Loss: 0.005835827440023422 | Val Loss: 1.6769052743911743 | Val Accuracy: 65.15\n",
      "Iter: 2400 | Train Loss: 0.0029655552934855223 | Val Loss: 1.8173879384994507 | Val Accuracy: 65.39\n",
      "Iter: 2500 | Train Loss: 0.0019528268603608012 | Val Loss: 1.7827130556106567 | Val Accuracy: 65.2\n",
      "Iter: 2600 | Train Loss: 0.0018934329273179173 | Val Loss: 1.7897634506225586 | Val Accuracy: 65.03\n",
      "Iter: 2700 | Train Loss: 0.0013371251989156008 | Val Loss: 1.9458250999450684 | Val Accuracy: 65.07\n"
     ]
    }
   ],
   "source": [
    "iter = 0\n",
    "num_epochs = 10\n",
    "history_train_acc, history_val_acc, history_train_loss, history_val_loss = [], [], [], []\n",
    "best_accuracy = 0\n",
    "for epoch in range(num_epochs):\n",
    "#     print('-'*50)\n",
    "    for i, (samples, labels) in enumerate(train_loader):\n",
    "        # Mode entraînement\n",
    "        model.train()\n",
    "        \n",
    "        # Charger les échantillons\n",
    "        samples = samples.view(-1, max_len).to(device)\n",
    "        labels = labels.view(-1, 1).to(device)\n",
    "\n",
    "        # Supprimer les gradients w.r.t. \n",
    "        optimizer.zero_grad()\n",
    "\n",
    "        # Passe avant pour obtenir les sorties/logits\n",
    "        outputs = model(samples)\n",
    "\n",
    "        # Calcule de la perte: softmax --> cross entropy loss\n",
    "        loss = criterion(outputs, labels)\n",
    "        \n",
    "        # Norme L1, ajouter à la perte initiale\n",
    "        # fc1_params = torch.cat([x.view(-1) for x in model.fc1.parameters()])\n",
    "        # loss += 0.001 * torch.norm(fc1_params, 1)\n",
    "    \n",
    "        # Obtenir les gradients w.r.t. \n",
    "        loss.backward()\n",
    "\n",
    "        # Mettre à jour les paramètres\n",
    "        optimizer.step()\n",
    "\n",
    "        iter += 1\n",
    "\n",
    "        if iter % 100 == 0:\n",
    "            # Obtenir les statistiques d'entraînement\n",
    "            train_loss = loss.data.item()\n",
    "            \n",
    "            # Mode test\n",
    "            model.eval()\n",
    "            # Calcule de la précision         \n",
    "            correct = 0\n",
    "            total = 0\n",
    "            # Iterer sur le jeu de données test\n",
    "            for samples, labels in valid_loader:\n",
    "                # Charger les échantillons\n",
    "                samples = samples.view(-1, max_len).to(device)\n",
    "                labels = labels.view(-1).to(device)\n",
    "\n",
    "                # Passe avant pour obtenir les sorties/logits\n",
    "                outputs = model(samples)\n",
    "                \n",
    "                # Perte de validation\n",
    "                val_loss = criterion(outputs.view(-1, 1), labels.view(-1, 1))\n",
    "                \n",
    "                # Nous utilisons un seuil. Cependant il y a une autre façon de le faire avec le label \"one-hot\".\n",
    "                # N'hésitez pas à explorer et à comprendre les avantages et les inconvénients de chacun.\n",
    "                # Cela ouvre tout un sujet sur les raisons pour lesquelles cela devient problématique lorsque nous passons de 2 à 10 classes.\n",
    "                # Comme pourquoi ne pouvons-nous pas faire 0, 1, 2, 3, 4 etc. sans encodage en une seule fois ?\n",
    "                predicted = outputs.ge(0.5).view(-1)\n",
    "\n",
    "                # Nombre total de labels\n",
    "                total += labels.size(0)\n",
    "\n",
    "                # Total des predictions correctes\n",
    "                correct += (predicted.type(torch.FloatTensor).cpu() == labels.type(torch.FloatTensor)).sum().item()\n",
    "                # correct = (predicted == labels.byte()).int().sum().item()\n",
    "            \n",
    "            accuracy = 100. * correct / total\n",
    "        \n",
    "            # Afficher la perte\n",
    "            print('Iter: {} | Train Loss: {} | Val Loss: {} | Val Accuracy: {}'.format(iter, train_loss, val_loss.item(), round(accuracy, 2)))\n",
    "            \n",
    "            # Ajouter à l'historique\n",
    "            history_val_loss.append(val_loss.data.item())\n",
    "            history_val_acc.append(round(accuracy, 2))\n",
    "            history_train_loss.append(train_loss)\n",
    "            \n",
    "            # Sauvegarde rle modèle quand la précision bat la meilleure précision\n",
    "            if accuracy > best_accuracy:\n",
    "                best_accuracy = accuracy\n",
    "                # Nous pouvons charger ce meilleur modèle sur le jeu de validation plus tard\n",
    "                torch.save(model.state_dict(), 'best_model.pth')"
   ]
  },
  {
   "cell_type": "code",
   "execution_count": 31,
   "metadata": {},
   "outputs": [
    {
     "data": {
      "image/png": "[encoded data removed]",
      "text/plain": [
       "<Figure size 1152x288 with 1 Axes>"
      ]
     },
     "metadata": {},
     "output_type": "display_data"
    }
   ],
   "source": [
    "# Afficher le graphe de la perte\n",
    "plt.plot(history_train_loss, label='Train')\n",
    "plt.plot(history_val_loss, label='Validation')\n",
    "plt.title('Loss Graph')\n",
    "plt.legend()\n",
    "plt.show()"
   ]
  },
  {
   "cell_type": "code",
   "execution_count": 32,
   "metadata": {},
   "outputs": [
    {
     "data": {
      "text/plain": [
       "Text(0.5, 1.0, 'Validation Accuracy')"
      ]
     },
     "execution_count": 32,
     "metadata": {},
     "output_type": "execute_result"
    },
    {
     "data": {
      "image/png": "[encoded data removed]",
      "text/plain": [
       "<Figure size 1152x288 with 1 Axes>"
      ]
     },
     "metadata": {},
     "output_type": "display_data"
    }
   ],
   "source": [
    "# Afficher le graphe de la précision sur l'échantillon de validation\n",
    "plt.plot(history_val_acc)\n",
    "plt.title('Validation Accuracy')"
   ]
  },
  {
   "cell_type": "code",
   "execution_count": 33,
   "metadata": {},
   "outputs": [
    {
     "name": "stdout",
     "output_type": "stream",
     "text": [
      "torch.Size([1002, 80])\n",
      "torch.Size([32, 6400])\n",
      "torch.Size([32])\n",
      "torch.Size([1, 32])\n",
      "torch.Size([1])\n"
     ]
    }
   ],
   "source": [
    "weights = torch.Tensor().to(device)\n",
    "for param_group in list(model.parameters()):\n",
    "    weights = torch.cat((param_group.view(-1), weights))\n",
    "    print(param_group.size())\n",
    "    \n",
    "# 0: Pas de régularisation\n",
    "weights_nothing = weights.cpu().detach().numpy()\n",
    "\n",
    "# 1: Norme L1 sur FC1\n",
    "weights_L1 = weights.detach().numpy()\n",
    "\n",
    "# 2: Norme L2\n",
    "weights_L2 = weights.detach().numpy()\n",
    "\n",
    "# 3: dropout\n",
    "# weights_dropout = weights.detach().numpy()"
   ]
  },
  {
   "cell_type": "code",
   "execution_count": null,
   "metadata": {},
   "outputs": [],
   "source": [
    "# plt.hist(weights_L1.reshape(-1), range=(-.5, .5), bins=20)"
   ]
  },
  {
   "cell_type": "code",
   "execution_count": null,
   "metadata": {},
   "outputs": [],
   "source": [
    "# plt.hist(weights_nothing.reshape(-1), range=(-.5, .5), bins=20)"
   ]
  },
  {
   "cell_type": "code",
   "execution_count": null,
   "metadata": {},
   "outputs": [],
   "source": [
    "# # Afficher la distribution des poids\n",
    "# plt.hist((\n",
    "#     weights_nothing.reshape(-1),\n",
    "#     weights_L1.reshape(-1),\n",
    "#     weights_L2.reshape(-1),\n",
    "# ), 49, range=(-.5, .5), label=(\n",
    "#     'No-reg',\n",
    "#     'L1',\n",
    "#     'L2',\n",
    "# ))\n",
    "# plt.legend();"
   ]
  },
  {
   "cell_type": "code",
   "execution_count": null,
   "metadata": {},
   "outputs": [],
   "source": []
  }
 ],
 "metadata": {
  "kernelspec": {
   "display_name": "Python 3",
   "language": "python",
   "name": "python3"
  },
  "language_info": {
   "codemirror_mode": {
    "name": "ipython",
    "version": 3
   },
   "file_extension": ".py",
   "mimetype": "text/x-python",
   "name": "python",
   "nbconvert_exporter": "python",
   "pygments_lexer": "ipython3",
   "version": "3.6.5"
  }
 },
 "nbformat": 4,
 "nbformat_minor": 4
}
